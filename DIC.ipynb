{
 "cells": [
  {
   "cell_type": "code",
   "execution_count": null,
   "id": "e3769d40-7c4b-45ec-9b3d-24b48702e59b",
   "metadata": {
    "tags": []
   },
   "outputs": [],
   "source": [
    "import random\n",
    "\n",
    "def generate_hex_randoms(num_randoms, file_path):\n",
    "    with open(file_path, 'w') as file:\n",
    "        for _ in range(num_randoms):\n",
    "            hex_number = format(random.randint(0, 255), '02x') # 生成 0 到 255 之间的随机数，并将其格式化为两位的十六进制数字\n",
    "            file.write(hex_number + '\\n')\n",
    "\n",
    "if __name__ == \"__main__\":\n",
    "    num_randoms = 64\n",
    "    for i in range(100):\n",
    "        file_path = f\"DIC_Data/random_hex{i+1}.txt\"\n",
    "        generate_hex_randoms(num_randoms, file_path)\n",
    "        print(f\"{num_randoms} 個十六進位隨機數字已經寫入到 {file_path} 文件中。\")\n"
   ]
  },
  {
   "cell_type": "code",
   "execution_count": null,
   "id": "711e820b-c8b1-4caa-a03b-0eddbc9117e7",
   "metadata": {},
   "outputs": [],
   "source": []
  }
 ],
 "metadata": {
  "kernelspec": {
   "display_name": "Python 3 (ipykernel)",
   "language": "python",
   "name": "python3"
  },
  "language_info": {
   "codemirror_mode": {
    "name": "ipython",
    "version": 3
   },
   "file_extension": ".py",
   "mimetype": "text/x-python",
   "name": "python",
   "nbconvert_exporter": "python",
   "pygments_lexer": "ipython3",
   "version": "3.11.5"
  }
 },
 "nbformat": 4,
 "nbformat_minor": 5
}
